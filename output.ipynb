{
 "cells": [
  {
   "cell_type": "code",
   "execution_count": 1,
   "id": "cac34e76",
   "metadata": {
    "execution": {
     "iopub.execute_input": "2025-06-26T18:41:41.661273Z",
     "iopub.status.busy": "2025-06-26T18:41:41.660823Z",
     "iopub.status.idle": "2025-06-26T18:41:41.675921Z",
     "shell.execute_reply": "2025-06-26T18:41:41.671508Z"
    },
    "papermill": {
     "duration": 0.02326,
     "end_time": "2025-06-26T18:41:41.677923",
     "exception": false,
     "start_time": "2025-06-26T18:41:41.654663",
     "status": "completed"
    },
    "tags": []
   },
   "outputs": [],
   "source": [
    "from datetime import datetime"
   ]
  },
  {
   "cell_type": "code",
   "execution_count": 2,
   "id": "cd23e7af",
   "metadata": {
    "execution": {
     "iopub.execute_input": "2025-06-26T18:41:41.692000Z",
     "iopub.status.busy": "2025-06-26T18:41:41.688603Z",
     "iopub.status.idle": "2025-06-26T18:41:41.699092Z",
     "shell.execute_reply": "2025-06-26T18:41:41.697006Z"
    },
    "papermill": {
     "duration": 0.017908,
     "end_time": "2025-06-26T18:41:41.701560",
     "exception": false,
     "start_time": "2025-06-26T18:41:41.683652",
     "status": "completed"
    },
    "tags": [
     "parameters"
    ]
   },
   "outputs": [],
   "source": [
    "# input date\n",
    "\n",
    "year = 2023 \n",
    "month = 10\n",
    "day = 15"
   ]
  },
  {
   "cell_type": "code",
   "execution_count": 3,
   "id": "b98289be",
   "metadata": {
    "execution": {
     "iopub.execute_input": "2025-06-26T18:41:41.713870Z",
     "iopub.status.busy": "2025-06-26T18:41:41.713280Z",
     "iopub.status.idle": "2025-06-26T18:41:41.723134Z",
     "shell.execute_reply": "2025-06-26T18:41:41.721418Z"
    },
    "papermill": {
     "duration": 0.024623,
     "end_time": "2025-06-26T18:41:41.729450",
     "exception": false,
     "start_time": "2025-06-26T18:41:41.704827",
     "status": "completed"
    },
    "tags": [
     "injected-parameters"
    ]
   },
   "outputs": [],
   "source": [
    "# Parameters\n",
    "month = 6\n"
   ]
  },
  {
   "cell_type": "code",
   "execution_count": 4,
   "id": "c79693a7",
   "metadata": {
    "execution": {
     "iopub.execute_input": "2025-06-26T18:41:41.736605Z",
     "iopub.status.busy": "2025-06-26T18:41:41.736241Z",
     "iopub.status.idle": "2025-06-26T18:41:41.750091Z",
     "shell.execute_reply": "2025-06-26T18:41:41.747496Z"
    },
    "papermill": {
     "duration": 0.020087,
     "end_time": "2025-06-26T18:41:41.752619",
     "exception": false,
     "start_time": "2025-06-26T18:41:41.732532",
     "status": "completed"
    },
    "tags": []
   },
   "outputs": [
    {
     "name": "stdout",
     "output_type": "stream",
     "text": [
      "date: 2023-06-15\n"
     ]
    }
   ],
   "source": [
    "# use the parameters to do something\n",
    "\n",
    "date_str = f\"{year:d}-{month:02d}-{day:02d}\"\n",
    "print(f'date: {date_str}')\n"
   ]
  },
  {
   "cell_type": "code",
   "execution_count": null,
   "id": "b40c5979",
   "metadata": {
    "papermill": {
     "duration": 0.007027,
     "end_time": "2025-06-26T18:41:41.763937",
     "exception": false,
     "start_time": "2025-06-26T18:41:41.756910",
     "status": "completed"
    },
    "tags": []
   },
   "outputs": [],
   "source": []
  },
  {
   "cell_type": "code",
   "execution_count": null,
   "id": "7c1d84d1",
   "metadata": {
    "papermill": {
     "duration": 0.009184,
     "end_time": "2025-06-26T18:41:41.780802",
     "exception": false,
     "start_time": "2025-06-26T18:41:41.771618",
     "status": "completed"
    },
    "tags": []
   },
   "outputs": [],
   "source": []
  },
  {
   "cell_type": "code",
   "execution_count": null,
   "id": "4672c6c5",
   "metadata": {
    "papermill": {
     "duration": 0.004247,
     "end_time": "2025-06-26T18:41:41.793867",
     "exception": false,
     "start_time": "2025-06-26T18:41:41.789620",
     "status": "completed"
    },
    "tags": []
   },
   "outputs": [],
   "source": []
  }
 ],
 "metadata": {
  "kernelspec": {
   "display_name": "250624-meetup-python-papermill",
   "language": "python",
   "name": "python3"
  },
  "language_info": {
   "codemirror_mode": {
    "name": "ipython",
    "version": 3
   },
   "file_extension": ".py",
   "mimetype": "text/x-python",
   "name": "python",
   "nbconvert_exporter": "python",
   "pygments_lexer": "ipython3",
   "version": "3.9.21"
  },
  "papermill": {
   "default_parameters": {},
   "duration": 1.952458,
   "end_time": "2025-06-26T18:41:42.122742",
   "environment_variables": {},
   "exception": null,
   "input_path": "date_print.ipynb",
   "output_path": "output.ipynb",
   "parameters": {
    "month": 6
   },
   "start_time": "2025-06-26T18:41:40.170284",
   "version": "2.6.0"
  }
 },
 "nbformat": 4,
 "nbformat_minor": 5
}