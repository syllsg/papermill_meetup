{
 "cells": [
  {
   "cell_type": "code",
   "execution_count": 1,
   "id": "cac34e76",
   "metadata": {
    "execution": {
     "iopub.execute_input": "2025-06-24T17:18:05.833356Z",
     "iopub.status.busy": "2025-06-24T17:18:05.833046Z",
     "iopub.status.idle": "2025-06-24T17:18:05.843861Z",
     "shell.execute_reply": "2025-06-24T17:18:05.843086Z"
    },
    "papermill": {
     "duration": 0.016172,
     "end_time": "2025-06-24T17:18:05.845678",
     "exception": false,
     "start_time": "2025-06-24T17:18:05.829506",
     "status": "completed"
    },
    "tags": []
   },
   "outputs": [],
   "source": [
    "from datetime import datetime"
   ]
  },
  {
   "cell_type": "code",
   "execution_count": 2,
   "id": "cd23e7af",
   "metadata": {
    "execution": {
     "iopub.execute_input": "2025-06-24T17:18:05.851441Z",
     "iopub.status.busy": "2025-06-24T17:18:05.850315Z",
     "iopub.status.idle": "2025-06-24T17:18:05.856149Z",
     "shell.execute_reply": "2025-06-24T17:18:05.854949Z"
    },
    "papermill": {
     "duration": 0.009881,
     "end_time": "2025-06-24T17:18:05.857791",
     "exception": false,
     "start_time": "2025-06-24T17:18:05.847910",
     "status": "completed"
    },
    "tags": [
     "parameters"
    ]
   },
   "outputs": [],
   "source": [
    "# input date\n",
    "\n",
    "year = 2023 \n",
    "month = 10\n",
    "day = 15"
   ]
  },
  {
   "cell_type": "code",
   "execution_count": 3,
   "id": "1766f80a",
   "metadata": {
    "execution": {
     "iopub.execute_input": "2025-06-24T17:18:05.866962Z",
     "iopub.status.busy": "2025-06-24T17:18:05.866543Z",
     "iopub.status.idle": "2025-06-24T17:18:05.872593Z",
     "shell.execute_reply": "2025-06-24T17:18:05.871852Z"
    },
    "papermill": {
     "duration": 0.014507,
     "end_time": "2025-06-24T17:18:05.874071",
     "exception": false,
     "start_time": "2025-06-24T17:18:05.859564",
     "status": "completed"
    },
    "tags": [
     "injected-parameters"
    ]
   },
   "outputs": [],
   "source": [
    "# Parameters\n",
    "month = 6\n",
    "year = 2026\n"
   ]
  },
  {
   "cell_type": "code",
   "execution_count": 4,
   "id": "c79693a7",
   "metadata": {
    "execution": {
     "iopub.execute_input": "2025-06-24T17:18:05.879225Z",
     "iopub.status.busy": "2025-06-24T17:18:05.878562Z",
     "iopub.status.idle": "2025-06-24T17:18:05.882823Z",
     "shell.execute_reply": "2025-06-24T17:18:05.882041Z"
    },
    "papermill": {
     "duration": 0.008425,
     "end_time": "2025-06-24T17:18:05.884256",
     "exception": false,
     "start_time": "2025-06-24T17:18:05.875831",
     "status": "completed"
    },
    "tags": []
   },
   "outputs": [
    {
     "name": "stdout",
     "output_type": "stream",
     "text": [
      "date: 2026-06-15\n"
     ]
    }
   ],
   "source": [
    "# use the parameters to do something\n",
    "\n",
    "date_str = f\"{year:d}-{month:02d}-{day:02d}\"\n",
    "print(f'date: {date_str}')\n"
   ]
  },
  {
   "cell_type": "code",
   "execution_count": null,
   "id": "b40c5979",
   "metadata": {
    "papermill": {
     "duration": 0.003356,
     "end_time": "2025-06-24T17:18:05.890328",
     "exception": false,
     "start_time": "2025-06-24T17:18:05.886972",
     "status": "completed"
    },
    "tags": []
   },
   "outputs": [],
   "source": []
  },
  {
   "cell_type": "code",
   "execution_count": null,
   "id": "7c1d84d1",
   "metadata": {
    "papermill": {
     "duration": 0.002573,
     "end_time": "2025-06-24T17:18:05.896560",
     "exception": false,
     "start_time": "2025-06-24T17:18:05.893987",
     "status": "completed"
    },
    "tags": []
   },
   "outputs": [],
   "source": []
  },
  {
   "cell_type": "code",
   "execution_count": null,
   "id": "4672c6c5",
   "metadata": {
    "papermill": {
     "duration": 0.003056,
     "end_time": "2025-06-24T17:18:05.902464",
     "exception": false,
     "start_time": "2025-06-24T17:18:05.899408",
     "status": "completed"
    },
    "tags": []
   },
   "outputs": [],
   "source": []
  }
 ],
 "metadata": {
  "kernelspec": {
   "display_name": "250624-meetup-python-papermill",
   "language": "python",
   "name": "python3"
  },
  "language_info": {
   "codemirror_mode": {
    "name": "ipython",
    "version": 3
   },
   "file_extension": ".py",
   "mimetype": "text/x-python",
   "name": "python",
   "nbconvert_exporter": "python",
   "pygments_lexer": "ipython3",
   "version": "3.9.21"
  },
  "papermill": {
   "default_parameters": {},
   "duration": 1.842256,
   "end_time": "2025-06-24T17:18:06.241211",
   "environment_variables": {},
   "exception": null,
   "input_path": "date_print.ipynb",
   "output_path": "output.ipynb",
   "parameters": {
    "month": 6,
    "year": 2026
   },
   "start_time": "2025-06-24T17:18:04.398955",
   "version": "2.6.0"
  }
 },
 "nbformat": 4,
 "nbformat_minor": 5
}