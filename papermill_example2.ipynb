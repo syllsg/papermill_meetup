{
 "cells": [
  {
   "cell_type": "code",
   "execution_count": 3,
   "id": "d96d7d3c",
   "metadata": {
    "tags": [
     "parameters"
    ]
   },
   "outputs": [],
   "source": [
    "symbol = 'AAPL'"
   ]
  },
  {
   "cell_type": "code",
   "execution_count": 4,
   "id": "7951c24e",
   "metadata": {},
   "outputs": [
    {
     "name": "stdout",
     "output_type": "stream",
     "text": [
      "Running report for AAPL\n"
     ]
    }
   ],
   "source": [
    "print(f\"Running report for {symbol}\")"
   ]
  },
  {
   "cell_type": "code",
   "execution_count": 5,
   "id": "0b035a3a",
   "metadata": {},
   "outputs": [],
   "source": [
    "import yfinance\n",
    "\n",
    "import matplotlib.pyplot as plt"
   ]
  },
  {
   "cell_type": "code",
   "execution_count": 6,
   "id": "5568a87b",
   "metadata": {},
   "outputs": [],
   "source": [
    "ticker = yfinance.Ticker(symbol)"
   ]
  },
  {
   "cell_type": "code",
   "execution_count": 7,
   "id": "cda9571f",
   "metadata": {},
   "outputs": [
    {
     "data": {
      "application/vnd.microsoft.datawrangler.viewer.v0+json": {
       "columns": [
        {
         "name": "Date",
         "rawType": "datetime64[ns, America/New_York]",
         "type": "unknown"
        },
        {
         "name": "Dividends",
         "rawType": "float64",
         "type": "float"
        },
        {
         "name": "Stock Splits",
         "rawType": "float64",
         "type": "float"
        }
       ],
       "ref": "ae354805-d287-4bc7-b416-eebee35ee1f7",
       "rows": [
        [
         "1987-05-11 00:00:00-04:00",
         "0.000536",
         "0.0"
        ],
        [
         "1987-06-16 00:00:00-04:00",
         "0.0",
         "2.0"
        ],
        [
         "1987-08-10 00:00:00-04:00",
         "0.000536",
         "0.0"
        ],
        [
         "1987-11-17 00:00:00-05:00",
         "0.000714",
         "0.0"
        ],
        [
         "1988-02-12 00:00:00-05:00",
         "0.000714",
         "0.0"
        ],
        [
         "1988-05-16 00:00:00-04:00",
         "0.000714",
         "0.0"
        ],
        [
         "1988-08-15 00:00:00-04:00",
         "0.000714",
         "0.0"
        ],
        [
         "1988-11-21 00:00:00-05:00",
         "0.000893",
         "0.0"
        ],
        [
         "1989-02-17 00:00:00-05:00",
         "0.000893",
         "0.0"
        ],
        [
         "1989-05-22 00:00:00-04:00",
         "0.000893",
         "0.0"
        ],
        [
         "1989-08-21 00:00:00-04:00",
         "0.000893",
         "0.0"
        ],
        [
         "1989-11-17 00:00:00-05:00",
         "0.000982",
         "0.0"
        ],
        [
         "1990-02-16 00:00:00-05:00",
         "0.000982",
         "0.0"
        ],
        [
         "1990-05-21 00:00:00-04:00",
         "0.000982",
         "0.0"
        ],
        [
         "1990-08-20 00:00:00-04:00",
         "0.000982",
         "0.0"
        ],
        [
         "1990-11-16 00:00:00-05:00",
         "0.001071",
         "0.0"
        ],
        [
         "1991-02-15 00:00:00-05:00",
         "0.001071",
         "0.0"
        ],
        [
         "1991-05-20 00:00:00-04:00",
         "0.001071",
         "0.0"
        ],
        [
         "1991-08-19 00:00:00-04:00",
         "0.001071",
         "0.0"
        ],
        [
         "1991-11-18 00:00:00-05:00",
         "0.001071",
         "0.0"
        ],
        [
         "1992-02-14 00:00:00-05:00",
         "0.001071",
         "0.0"
        ],
        [
         "1992-06-01 00:00:00-04:00",
         "0.001071",
         "0.0"
        ],
        [
         "1992-08-17 00:00:00-04:00",
         "0.001071",
         "0.0"
        ],
        [
         "1992-11-30 00:00:00-05:00",
         "0.001071",
         "0.0"
        ],
        [
         "1993-02-12 00:00:00-05:00",
         "0.001071",
         "0.0"
        ],
        [
         "1993-05-28 00:00:00-04:00",
         "0.001071",
         "0.0"
        ],
        [
         "1993-08-16 00:00:00-04:00",
         "0.001071",
         "0.0"
        ],
        [
         "1993-11-19 00:00:00-05:00",
         "0.001071",
         "0.0"
        ],
        [
         "1994-02-07 00:00:00-05:00",
         "0.001071",
         "0.0"
        ],
        [
         "1994-05-27 00:00:00-04:00",
         "0.001071",
         "0.0"
        ],
        [
         "1994-08-15 00:00:00-04:00",
         "0.001071",
         "0.0"
        ],
        [
         "1994-11-18 00:00:00-05:00",
         "0.001071",
         "0.0"
        ],
        [
         "1995-02-13 00:00:00-05:00",
         "0.001071",
         "0.0"
        ],
        [
         "1995-05-26 00:00:00-04:00",
         "0.001071",
         "0.0"
        ],
        [
         "1995-08-16 00:00:00-04:00",
         "0.001071",
         "0.0"
        ],
        [
         "1995-11-21 00:00:00-05:00",
         "0.001071",
         "0.0"
        ],
        [
         "2000-06-21 00:00:00-04:00",
         "0.0",
         "2.0"
        ],
        [
         "2005-02-28 00:00:00-05:00",
         "0.0",
         "2.0"
        ],
        [
         "2012-08-09 00:00:00-04:00",
         "0.094643",
         "0.0"
        ],
        [
         "2012-11-07 00:00:00-05:00",
         "0.094643",
         "0.0"
        ],
        [
         "2013-02-07 00:00:00-05:00",
         "0.094643",
         "0.0"
        ],
        [
         "2013-05-09 00:00:00-04:00",
         "0.108929",
         "0.0"
        ],
        [
         "2013-08-08 00:00:00-04:00",
         "0.108929",
         "0.0"
        ],
        [
         "2013-11-06 00:00:00-05:00",
         "0.108929",
         "0.0"
        ],
        [
         "2014-02-06 00:00:00-05:00",
         "0.108929",
         "0.0"
        ],
        [
         "2014-05-08 00:00:00-04:00",
         "0.1175",
         "0.0"
        ],
        [
         "2014-06-09 00:00:00-04:00",
         "0.0",
         "7.0"
        ],
        [
         "2014-08-07 00:00:00-04:00",
         "0.1175",
         "0.0"
        ],
        [
         "2014-11-06 00:00:00-05:00",
         "0.1175",
         "0.0"
        ],
        [
         "2015-02-05 00:00:00-05:00",
         "0.1175",
         "0.0"
        ]
       ],
       "shape": {
        "columns": 2,
        "rows": 92
       }
      },
      "text/html": [
       "<div>\n",
       "<style scoped>\n",
       "    .dataframe tbody tr th:only-of-type {\n",
       "        vertical-align: middle;\n",
       "    }\n",
       "\n",
       "    .dataframe tbody tr th {\n",
       "        vertical-align: top;\n",
       "    }\n",
       "\n",
       "    .dataframe thead th {\n",
       "        text-align: right;\n",
       "    }\n",
       "</style>\n",
       "<table border=\"1\" class=\"dataframe\">\n",
       "  <thead>\n",
       "    <tr style=\"text-align: right;\">\n",
       "      <th></th>\n",
       "      <th>Dividends</th>\n",
       "      <th>Stock Splits</th>\n",
       "    </tr>\n",
       "    <tr>\n",
       "      <th>Date</th>\n",
       "      <th></th>\n",
       "      <th></th>\n",
       "    </tr>\n",
       "  </thead>\n",
       "  <tbody>\n",
       "    <tr>\n",
       "      <th>1987-05-11 00:00:00-04:00</th>\n",
       "      <td>0.000536</td>\n",
       "      <td>0.0</td>\n",
       "    </tr>\n",
       "    <tr>\n",
       "      <th>1987-06-16 00:00:00-04:00</th>\n",
       "      <td>0.000000</td>\n",
       "      <td>2.0</td>\n",
       "    </tr>\n",
       "    <tr>\n",
       "      <th>1987-08-10 00:00:00-04:00</th>\n",
       "      <td>0.000536</td>\n",
       "      <td>0.0</td>\n",
       "    </tr>\n",
       "    <tr>\n",
       "      <th>1987-11-17 00:00:00-05:00</th>\n",
       "      <td>0.000714</td>\n",
       "      <td>0.0</td>\n",
       "    </tr>\n",
       "    <tr>\n",
       "      <th>1988-02-12 00:00:00-05:00</th>\n",
       "      <td>0.000714</td>\n",
       "      <td>0.0</td>\n",
       "    </tr>\n",
       "    <tr>\n",
       "      <th>...</th>\n",
       "      <td>...</td>\n",
       "      <td>...</td>\n",
       "    </tr>\n",
       "    <tr>\n",
       "      <th>2024-05-10 00:00:00-04:00</th>\n",
       "      <td>0.250000</td>\n",
       "      <td>0.0</td>\n",
       "    </tr>\n",
       "    <tr>\n",
       "      <th>2024-08-12 00:00:00-04:00</th>\n",
       "      <td>0.250000</td>\n",
       "      <td>0.0</td>\n",
       "    </tr>\n",
       "    <tr>\n",
       "      <th>2024-11-08 00:00:00-05:00</th>\n",
       "      <td>0.250000</td>\n",
       "      <td>0.0</td>\n",
       "    </tr>\n",
       "    <tr>\n",
       "      <th>2025-02-10 00:00:00-05:00</th>\n",
       "      <td>0.250000</td>\n",
       "      <td>0.0</td>\n",
       "    </tr>\n",
       "    <tr>\n",
       "      <th>2025-05-12 00:00:00-04:00</th>\n",
       "      <td>0.260000</td>\n",
       "      <td>0.0</td>\n",
       "    </tr>\n",
       "  </tbody>\n",
       "</table>\n",
       "<p>92 rows × 2 columns</p>\n",
       "</div>"
      ],
      "text/plain": [
       "                           Dividends  Stock Splits\n",
       "Date                                              \n",
       "1987-05-11 00:00:00-04:00   0.000536           0.0\n",
       "1987-06-16 00:00:00-04:00   0.000000           2.0\n",
       "1987-08-10 00:00:00-04:00   0.000536           0.0\n",
       "1987-11-17 00:00:00-05:00   0.000714           0.0\n",
       "1988-02-12 00:00:00-05:00   0.000714           0.0\n",
       "...                              ...           ...\n",
       "2024-05-10 00:00:00-04:00   0.250000           0.0\n",
       "2024-08-12 00:00:00-04:00   0.250000           0.0\n",
       "2024-11-08 00:00:00-05:00   0.250000           0.0\n",
       "2025-02-10 00:00:00-05:00   0.250000           0.0\n",
       "2025-05-12 00:00:00-04:00   0.260000           0.0\n",
       "\n",
       "[92 rows x 2 columns]"
      ]
     },
     "execution_count": 7,
     "metadata": {},
     "output_type": "execute_result"
    }
   ],
   "source": [
    "ticker.get_actions()"
   ]
  },
  {
   "cell_type": "code",
   "execution_count": 9,
   "id": "43d21a2f",
   "metadata": {},
   "outputs": [],
   "source": [
    "data = ticker.history(period='2y', interval='1d')"
   ]
  },
  {
   "cell_type": "code",
   "execution_count": 10,
   "id": "10f6ddb9",
   "metadata": {},
   "outputs": [],
   "source": [
    "# note, if we didn't grab all historical data, this isn't accurate\n",
    "data['ATH'] = data['Close'].expanding().max()"
   ]
  },
  {
   "cell_type": "code",
   "execution_count": 11,
   "id": "6bc30d2a",
   "metadata": {},
   "outputs": [
    {
     "data": {
      "image/png": "[encoded data removed]",
      "text/plain": [
       "<Figure size 1200x800 with 1 Axes>"
      ]
     },
     "metadata": {},
     "output_type": "display_data"
    }
   ],
   "source": [
    "plt.figure(figsize=(12,8))\n",
    "\n",
    "ax = plt.subplot()\n",
    "ax.plot(data['Close'])\n",
    "ax.plot(data['ATH']);"
   ]
  },
  {
   "cell_type": "code",
   "execution_count": null,
   "id": "802991fd",
   "metadata": {},
   "outputs": [],
   "source": []
  },
  {
   "cell_type": "code",
   "execution_count": null,
   "id": "465a75d2",
   "metadata": {},
   "outputs": [],
   "source": []
  }
 ],
 "metadata": {
  "celltoolbar": "Tags",
  "kernelspec": {
   "display_name": "250624-meetup-python-papermill",
   "language": "python",
   "name": "python3"
  },
  "language_info": {
   "codemirror_mode": {
    "name": "ipython",
    "version": 3
   },
   "file_extension": ".py",
   "mimetype": "text/x-python",
   "name": "python",
   "nbconvert_exporter": "python",
   "pygments_lexer": "ipython3",
   "version": "3.9.21"
  },
  "varInspector": {
   "cols": {
    "lenName": 16,
    "lenType": 16,
    "lenVar": 40
   },
   "kernels_config": {
    "python": {
     "delete_cmd_postfix": "",
     "delete_cmd_prefix": "del ",
     "library": "var_list.py",
     "varRefreshCmd": "print(var_dic_list())"
    },
    "r": {
     "delete_cmd_postfix": ") ",
     "delete_cmd_prefix": "rm(",
     "library": "var_list.r",
     "varRefreshCmd": "cat(var_dic_list()) "
    }
   },
   "types_to_exclude": [
    "module",
    "function",
    "builtin_function_or_method",
    "instance",
    "_Feature"
   ],
   "window_display": false
  }
 },
 "nbformat": 4,
 "nbformat_minor": 5
}
