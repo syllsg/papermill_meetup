{
 "cells": [
  {
   "cell_type": "code",
   "execution_count": 1,
   "id": "e48b7561",
   "metadata": {
    "execution": {
     "iopub.execute_input": "2025-06-24T16:10:00.921301Z",
     "iopub.status.busy": "2025-06-24T16:10:00.920156Z",
     "iopub.status.idle": "2025-06-24T16:10:01.889267Z",
     "shell.execute_reply": "2025-06-24T16:10:01.888329Z"
    },
    "papermill": {
     "duration": 0.97641,
     "end_time": "2025-06-24T16:10:01.891108",
     "exception": false,
     "start_time": "2025-06-24T16:10:00.914698",
     "status": "completed"
    },
    "tags": []
   },
   "outputs": [],
   "source": [
    "import sklearn\n"
   ]
  },
  {
   "cell_type": "code",
   "execution_count": null,
   "id": "34c46134",
   "metadata": {
    "papermill": {
     "duration": 0.001053,
     "end_time": "2025-06-24T16:10:01.893817",
     "exception": false,
     "start_time": "2025-06-24T16:10:01.892764",
     "status": "completed"
    },
    "tags": []
   },
   "outputs": [],
   "source": []
  }
 ],
 "metadata": {
  "kernelspec": {
   "display_name": "250624-meetup-python-papermill",
   "language": "python",
   "name": "python3"
  },
  "language_info": {
   "codemirror_mode": {
    "name": "ipython",
    "version": 3
   },
   "file_extension": ".py",
   "mimetype": "text/x-python",
   "name": "python",
   "nbconvert_exporter": "python",
   "pygments_lexer": "ipython3",
   "version": "3.9.21"
  },
  "papermill": {
   "default_parameters": {},
   "duration": 2.508759,
   "end_time": "2025-06-24T16:10:02.315555",
   "environment_variables": {},
   "exception": null,
   "input_path": "test_folder/blob1.ipynb",
   "output_path": "test_folder/blob1.ipynb",
   "parameters": {},
   "start_time": "2025-06-24T16:09:59.806796",
   "version": "2.6.0"
  }
 },
 "nbformat": 4,
 "nbformat_minor": 5
}