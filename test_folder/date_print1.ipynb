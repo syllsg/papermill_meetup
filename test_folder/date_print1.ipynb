{
 "cells": [
  {
   "cell_type": "code",
   "execution_count": 1,
   "id": "cac34e76",
   "metadata": {
    "execution": {
     "iopub.execute_input": "2025-06-24T16:10:03.272630Z",
     "iopub.status.busy": "2025-06-24T16:10:03.271668Z",
     "iopub.status.idle": "2025-06-24T16:10:03.284424Z",
     "shell.execute_reply": "2025-06-24T16:10:03.283346Z"
    },
    "papermill": {
     "duration": 0.018712,
     "end_time": "2025-06-24T16:10:03.286893",
     "exception": false,
     "start_time": "2025-06-24T16:10:03.268181",
     "status": "completed"
    },
    "tags": []
   },
   "outputs": [],
   "source": [
    "from datetime import datetime, timezone"
   ]
  },
  {
   "cell_type": "code",
   "execution_count": 2,
   "id": "cd23e7af",
   "metadata": {
    "execution": {
     "iopub.execute_input": "2025-06-24T16:10:03.295489Z",
     "iopub.status.busy": "2025-06-24T16:10:03.294815Z",
     "iopub.status.idle": "2025-06-24T16:10:03.300001Z",
     "shell.execute_reply": "2025-06-24T16:10:03.298968Z"
    },
    "papermill": {
     "duration": 0.011146,
     "end_time": "2025-06-24T16:10:03.301856",
     "exception": false,
     "start_time": "2025-06-24T16:10:03.290710",
     "status": "completed"
    },
    "tags": [
     "parameters"
    ]
   },
   "outputs": [],
   "source": [
    "# input date\n",
    "\n",
    "year = 2023 \n",
    "month = 10\n",
    "day = 15"
   ]
  },
  {
   "cell_type": "code",
   "execution_count": 3,
   "id": "c79693a7",
   "metadata": {
    "execution": {
     "iopub.execute_input": "2025-06-24T16:10:03.309322Z",
     "iopub.status.busy": "2025-06-24T16:10:03.308845Z",
     "iopub.status.idle": "2025-06-24T16:10:03.320485Z",
     "shell.execute_reply": "2025-06-24T16:10:03.318034Z"
    },
    "papermill": {
     "duration": 0.020703,
     "end_time": "2025-06-24T16:10:03.325431",
     "exception": false,
     "start_time": "2025-06-24T16:10:03.304728",
     "status": "completed"
    },
    "tags": []
   },
   "outputs": [
    {
     "name": "stdout",
     "output_type": "stream",
     "text": [
      "date: 2023-10-15\n",
      "timestamp: 1697328000\n"
     ]
    }
   ],
   "source": [
    "# use the parameters to do something\n",
    "\n",
    "date_str = f\"{year:d}-{month:02d}-{day:02d}\"\n",
    "print(f'date: {date_str}')\n",
    "date = datetime.strptime(date_str, \"%Y-%m-%d\")\n",
    "date_utc = date.replace(tzinfo=timezone.utc)\n",
    "ts = int(date_utc.timestamp())\n",
    "print(f'timestamp: {ts}')"
   ]
  },
  {
   "cell_type": "code",
   "execution_count": null,
   "id": "b40c5979",
   "metadata": {
    "papermill": {
     "duration": 0.003669,
     "end_time": "2025-06-24T16:10:03.333649",
     "exception": false,
     "start_time": "2025-06-24T16:10:03.329980",
     "status": "completed"
    },
    "tags": []
   },
   "outputs": [],
   "source": []
  },
  {
   "cell_type": "code",
   "execution_count": null,
   "id": "7c1d84d1",
   "metadata": {
    "papermill": {
     "duration": 0.002186,
     "end_time": "2025-06-24T16:10:03.337409",
     "exception": false,
     "start_time": "2025-06-24T16:10:03.335223",
     "status": "completed"
    },
    "tags": []
   },
   "outputs": [],
   "source": []
  },
  {
   "cell_type": "code",
   "execution_count": null,
   "id": "4672c6c5",
   "metadata": {
    "papermill": {
     "duration": 0.002975,
     "end_time": "2025-06-24T16:10:03.343562",
     "exception": false,
     "start_time": "2025-06-24T16:10:03.340587",
     "status": "completed"
    },
    "tags": []
   },
   "outputs": [],
   "source": []
  }
 ],
 "metadata": {
  "kernelspec": {
   "display_name": "250624-meetup-python-papermill",
   "language": "python",
   "name": "python3"
  },
  "language_info": {
   "codemirror_mode": {
    "name": "ipython",
    "version": 3
   },
   "file_extension": ".py",
   "mimetype": "text/x-python",
   "name": "python",
   "nbconvert_exporter": "python",
   "pygments_lexer": "ipython3",
   "version": "3.9.21"
  },
  "papermill": {
   "default_parameters": {},
   "duration": 1.347894,
   "end_time": "2025-06-24T16:10:03.667564",
   "environment_variables": {},
   "exception": null,
   "input_path": "test_folder/date_print1.ipynb",
   "output_path": "test_folder/date_print1.ipynb",
   "parameters": {},
   "start_time": "2025-06-24T16:10:02.319670",
   "version": "2.6.0"
  }
 },
 "nbformat": 4,
 "nbformat_minor": 5
}