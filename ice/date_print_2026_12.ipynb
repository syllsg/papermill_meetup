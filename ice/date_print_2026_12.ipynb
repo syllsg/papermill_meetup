{
 "cells": [
  {
   "cell_type": "code",
   "execution_count": 1,
   "id": "cac34e76",
   "metadata": {
    "execution": {
     "iopub.execute_input": "2025-06-24T13:52:12.540731Z",
     "iopub.status.busy": "2025-06-24T13:52:12.540050Z",
     "iopub.status.idle": "2025-06-24T13:52:12.549334Z",
     "shell.execute_reply": "2025-06-24T13:52:12.548345Z"
    },
    "papermill": {
     "duration": 0.015495,
     "end_time": "2025-06-24T13:52:12.551203",
     "exception": false,
     "start_time": "2025-06-24T13:52:12.535708",
     "status": "completed"
    },
    "tags": []
   },
   "outputs": [],
   "source": [
    "from datetime import datetime, timezone"
   ]
  },
  {
   "cell_type": "code",
   "execution_count": 2,
   "id": "cd23e7af",
   "metadata": {
    "execution": {
     "iopub.execute_input": "2025-06-24T13:52:12.556820Z",
     "iopub.status.busy": "2025-06-24T13:52:12.556111Z",
     "iopub.status.idle": "2025-06-24T13:52:12.560255Z",
     "shell.execute_reply": "2025-06-24T13:52:12.559412Z"
    },
    "papermill": {
     "duration": 0.008433,
     "end_time": "2025-06-24T13:52:12.561791",
     "exception": false,
     "start_time": "2025-06-24T13:52:12.553358",
     "status": "completed"
    },
    "tags": [
     "parameters"
    ]
   },
   "outputs": [],
   "source": [
    "# input date\n",
    "\n",
    "year = 2023 \n",
    "month = 10\n",
    "day = 15"
   ]
  },
  {
   "cell_type": "code",
   "execution_count": 3,
   "id": "85dc8373",
   "metadata": {
    "execution": {
     "iopub.execute_input": "2025-06-24T13:52:12.567275Z",
     "iopub.status.busy": "2025-06-24T13:52:12.566521Z",
     "iopub.status.idle": "2025-06-24T13:52:12.573169Z",
     "shell.execute_reply": "2025-06-24T13:52:12.572256Z"
    },
    "papermill": {
     "duration": 0.01251,
     "end_time": "2025-06-24T13:52:12.576009",
     "exception": false,
     "start_time": "2025-06-24T13:52:12.563499",
     "status": "completed"
    },
    "tags": [
     "injected-parameters"
    ]
   },
   "outputs": [],
   "source": [
    "# Parameters\n",
    "year = 2026\n",
    "month = 12\n"
   ]
  },
  {
   "cell_type": "code",
   "execution_count": 4,
   "id": "c79693a7",
   "metadata": {
    "execution": {
     "iopub.execute_input": "2025-06-24T13:52:12.584235Z",
     "iopub.status.busy": "2025-06-24T13:52:12.583248Z",
     "iopub.status.idle": "2025-06-24T13:52:12.595461Z",
     "shell.execute_reply": "2025-06-24T13:52:12.593558Z"
    },
    "papermill": {
     "duration": 0.019447,
     "end_time": "2025-06-24T13:52:12.598623",
     "exception": false,
     "start_time": "2025-06-24T13:52:12.579176",
     "status": "completed"
    },
    "tags": []
   },
   "outputs": [
    {
     "name": "stdout",
     "output_type": "stream",
     "text": [
      "date: 2026-12-15\n",
      "timestamp: 1797292800\n"
     ]
    }
   ],
   "source": [
    "# use the parameters to do something\n",
    "\n",
    "date_str = f\"{year:d}-{month:02d}-{day:02d}\"\n",
    "print(f'date: {date_str}')\n",
    "date = datetime.strptime(date_str, \"%Y-%m-%d\")\n",
    "date_utc = date.replace(tzinfo=timezone.utc)\n",
    "ts = int(date_utc.timestamp())\n",
    "print(f'timestamp: {ts}')"
   ]
  },
  {
   "cell_type": "code",
   "execution_count": null,
   "id": "b40c5979",
   "metadata": {
    "papermill": {
     "duration": 0.003085,
     "end_time": "2025-06-24T13:52:12.607968",
     "exception": false,
     "start_time": "2025-06-24T13:52:12.604883",
     "status": "completed"
    },
    "tags": []
   },
   "outputs": [],
   "source": []
  },
  {
   "cell_type": "code",
   "execution_count": null,
   "id": "7c1d84d1",
   "metadata": {
    "papermill": {
     "duration": 0.003048,
     "end_time": "2025-06-24T13:52:12.614087",
     "exception": false,
     "start_time": "2025-06-24T13:52:12.611039",
     "status": "completed"
    },
    "tags": []
   },
   "outputs": [],
   "source": []
  },
  {
   "cell_type": "code",
   "execution_count": null,
   "id": "4672c6c5",
   "metadata": {
    "papermill": {
     "duration": 0.003083,
     "end_time": "2025-06-24T13:52:12.620790",
     "exception": false,
     "start_time": "2025-06-24T13:52:12.617707",
     "status": "completed"
    },
    "tags": []
   },
   "outputs": [],
   "source": []
  }
 ],
 "metadata": {
  "kernelspec": {
   "display_name": "250624-meetup-python-papermill",
   "language": "python",
   "name": "python3"
  },
  "language_info": {
   "codemirror_mode": {
    "name": "ipython",
    "version": 3
   },
   "file_extension": ".py",
   "mimetype": "text/x-python",
   "name": "python",
   "nbconvert_exporter": "python",
   "pygments_lexer": "ipython3",
   "version": "3.9.21"
  },
  "papermill": {
   "default_parameters": {},
   "duration": 1.068962,
   "end_time": "2025-06-24T13:52:12.848629",
   "environment_variables": {},
   "exception": null,
   "input_path": "date_print.ipynb",
   "output_path": "date_print_2026_12.ipynb",
   "parameters": {
    "month": 12,
    "year": 2026
   },
   "start_time": "2025-06-24T13:52:11.779667",
   "version": "2.6.0"
  }
 },
 "nbformat": 4,
 "nbformat_minor": 5
}