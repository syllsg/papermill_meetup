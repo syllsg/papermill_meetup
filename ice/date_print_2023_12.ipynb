{
 "cells": [
  {
   "cell_type": "code",
   "execution_count": 1,
   "id": "cac34e76",
   "metadata": {
    "execution": {
     "iopub.execute_input": "2025-06-24T13:52:11.455465Z",
     "iopub.status.busy": "2025-06-24T13:52:11.454712Z",
     "iopub.status.idle": "2025-06-24T13:52:11.471174Z",
     "shell.execute_reply": "2025-06-24T13:52:11.470249Z"
    },
    "papermill": {
     "duration": 0.026747,
     "end_time": "2025-06-24T13:52:11.473869",
     "exception": false,
     "start_time": "2025-06-24T13:52:11.447122",
     "status": "completed"
    },
    "tags": []
   },
   "outputs": [],
   "source": [
    "from datetime import datetime, timezone"
   ]
  },
  {
   "cell_type": "code",
   "execution_count": 2,
   "id": "cd23e7af",
   "metadata": {
    "execution": {
     "iopub.execute_input": "2025-06-24T13:52:11.485892Z",
     "iopub.status.busy": "2025-06-24T13:52:11.485200Z",
     "iopub.status.idle": "2025-06-24T13:52:11.489991Z",
     "shell.execute_reply": "2025-06-24T13:52:11.489322Z"
    },
    "papermill": {
     "duration": 0.012672,
     "end_time": "2025-06-24T13:52:11.491293",
     "exception": false,
     "start_time": "2025-06-24T13:52:11.478621",
     "status": "completed"
    },
    "tags": [
     "parameters"
    ]
   },
   "outputs": [],
   "source": [
    "# input date\n",
    "\n",
    "year = 2023 \n",
    "month = 10\n",
    "day = 15"
   ]
  },
  {
   "cell_type": "code",
   "execution_count": 3,
   "id": "1d905cb4",
   "metadata": {
    "execution": {
     "iopub.execute_input": "2025-06-24T13:52:11.496452Z",
     "iopub.status.busy": "2025-06-24T13:52:11.495737Z",
     "iopub.status.idle": "2025-06-24T13:52:11.500161Z",
     "shell.execute_reply": "2025-06-24T13:52:11.499232Z"
    },
    "papermill": {
     "duration": 0.009132,
     "end_time": "2025-06-24T13:52:11.502465",
     "exception": false,
     "start_time": "2025-06-24T13:52:11.493333",
     "status": "completed"
    },
    "tags": [
     "injected-parameters"
    ]
   },
   "outputs": [],
   "source": [
    "# Parameters\n",
    "year = 2023\n",
    "month = 12\n"
   ]
  },
  {
   "cell_type": "code",
   "execution_count": 4,
   "id": "c79693a7",
   "metadata": {
    "execution": {
     "iopub.execute_input": "2025-06-24T13:52:11.513837Z",
     "iopub.status.busy": "2025-06-24T13:52:11.511847Z",
     "iopub.status.idle": "2025-06-24T13:52:11.524461Z",
     "shell.execute_reply": "2025-06-24T13:52:11.522690Z"
    },
    "papermill": {
     "duration": 0.020752,
     "end_time": "2025-06-24T13:52:11.527200",
     "exception": false,
     "start_time": "2025-06-24T13:52:11.506448",
     "status": "completed"
    },
    "tags": []
   },
   "outputs": [
    {
     "name": "stdout",
     "output_type": "stream",
     "text": [
      "date: 2023-12-15\n",
      "timestamp: 1702598400\n"
     ]
    }
   ],
   "source": [
    "# use the parameters to do something\n",
    "\n",
    "date_str = f\"{year:d}-{month:02d}-{day:02d}\"\n",
    "print(f'date: {date_str}')\n",
    "date = datetime.strptime(date_str, \"%Y-%m-%d\")\n",
    "date_utc = date.replace(tzinfo=timezone.utc)\n",
    "ts = int(date_utc.timestamp())\n",
    "print(f'timestamp: {ts}')"
   ]
  },
  {
   "cell_type": "code",
   "execution_count": null,
   "id": "b40c5979",
   "metadata": {
    "papermill": {
     "duration": 0.003536,
     "end_time": "2025-06-24T13:52:11.535296",
     "exception": false,
     "start_time": "2025-06-24T13:52:11.531760",
     "status": "completed"
    },
    "tags": []
   },
   "outputs": [],
   "source": []
  },
  {
   "cell_type": "code",
   "execution_count": null,
   "id": "7c1d84d1",
   "metadata": {
    "papermill": {
     "duration": 0.004009,
     "end_time": "2025-06-24T13:52:11.542951",
     "exception": false,
     "start_time": "2025-06-24T13:52:11.538942",
     "status": "completed"
    },
    "tags": []
   },
   "outputs": [],
   "source": []
  },
  {
   "cell_type": "code",
   "execution_count": null,
   "id": "4672c6c5",
   "metadata": {
    "papermill": {
     "duration": 0.006492,
     "end_time": "2025-06-24T13:52:11.552055",
     "exception": false,
     "start_time": "2025-06-24T13:52:11.545563",
     "status": "completed"
    },
    "tags": []
   },
   "outputs": [],
   "source": []
  }
 ],
 "metadata": {
  "kernelspec": {
   "display_name": "250624-meetup-python-papermill",
   "language": "python",
   "name": "python3"
  },
  "language_info": {
   "codemirror_mode": {
    "name": "ipython",
    "version": 3
   },
   "file_extension": ".py",
   "mimetype": "text/x-python",
   "name": "python",
   "nbconvert_exporter": "python",
   "pygments_lexer": "ipython3",
   "version": "3.9.21"
  },
  "papermill": {
   "default_parameters": {},
   "duration": 1.207967,
   "end_time": "2025-06-24T13:52:11.774449",
   "environment_variables": {},
   "exception": null,
   "input_path": "date_print.ipynb",
   "output_path": "date_print_2023_12.ipynb",
   "parameters": {
    "month": 12,
    "year": 2023
   },
   "start_time": "2025-06-24T13:52:10.566482",
   "version": "2.6.0"
  }
 },
 "nbformat": 4,
 "nbformat_minor": 5
}