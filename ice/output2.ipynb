{
 "cells": [
  {
   "cell_type": "code",
   "execution_count": 1,
   "id": "cac34e76",
   "metadata": {
    "execution": {
     "iopub.execute_input": "2025-06-24T13:27:10.056075Z",
     "iopub.status.busy": "2025-06-24T13:27:10.054834Z",
     "iopub.status.idle": "2025-06-24T13:27:10.087736Z",
     "shell.execute_reply": "2025-06-24T13:27:10.086972Z"
    },
    "papermill": {
     "duration": 0.043983,
     "end_time": "2025-06-24T13:27:10.091838",
     "exception": false,
     "start_time": "2025-06-24T13:27:10.047855",
     "status": "completed"
    },
    "tags": []
   },
   "outputs": [],
   "source": [
    "from datetime import datetime, timezone"
   ]
  },
  {
   "cell_type": "code",
   "execution_count": 2,
   "id": "cd23e7af",
   "metadata": {
    "execution": {
     "iopub.execute_input": "2025-06-24T13:27:10.101874Z",
     "iopub.status.busy": "2025-06-24T13:27:10.099977Z",
     "iopub.status.idle": "2025-06-24T13:27:10.108255Z",
     "shell.execute_reply": "2025-06-24T13:27:10.106814Z"
    },
    "papermill": {
     "duration": 0.014966,
     "end_time": "2025-06-24T13:27:10.110292",
     "exception": false,
     "start_time": "2025-06-24T13:27:10.095326",
     "status": "completed"
    },
    "tags": [
     "parameters"
    ]
   },
   "outputs": [],
   "source": [
    "# input date\n",
    "\n",
    "year = 2023 \n",
    "month = 10\n",
    "day = 15"
   ]
  },
  {
   "cell_type": "code",
   "execution_count": 3,
   "id": "20b65d16",
   "metadata": {
    "execution": {
     "iopub.execute_input": "2025-06-24T13:27:10.118542Z",
     "iopub.status.busy": "2025-06-24T13:27:10.117949Z",
     "iopub.status.idle": "2025-06-24T13:27:10.123374Z",
     "shell.execute_reply": "2025-06-24T13:27:10.121871Z"
    },
    "papermill": {
     "duration": 0.014023,
     "end_time": "2025-06-24T13:27:10.127197",
     "exception": false,
     "start_time": "2025-06-24T13:27:10.113174",
     "status": "completed"
    },
    "tags": [
     "injected-parameters"
    ]
   },
   "outputs": [],
   "source": [
    "# Parameters\n",
    "year = 2025\n",
    "month = 12\n"
   ]
  },
  {
   "cell_type": "code",
   "execution_count": 4,
   "id": "c79693a7",
   "metadata": {
    "execution": {
     "iopub.execute_input": "2025-06-24T13:27:10.137157Z",
     "iopub.status.busy": "2025-06-24T13:27:10.136729Z",
     "iopub.status.idle": "2025-06-24T13:27:10.145885Z",
     "shell.execute_reply": "2025-06-24T13:27:10.143333Z"
    },
    "papermill": {
     "duration": 0.017056,
     "end_time": "2025-06-24T13:27:10.148138",
     "exception": false,
     "start_time": "2025-06-24T13:27:10.131082",
     "status": "completed"
    },
    "tags": []
   },
   "outputs": [
    {
     "name": "stdout",
     "output_type": "stream",
     "text": [
      "date: 2025-12-15\n",
      "timestamp: 1765756800\n"
     ]
    }
   ],
   "source": [
    "# use the parameters to do something\n",
    "\n",
    "date_str = f\"{year:d}-{month:02d}-{day:02d}\"\n",
    "print(f'date: {date_str}')\n",
    "date = datetime.strptime(date_str, \"%Y-%m-%d\")\n",
    "date_utc = date.replace(tzinfo=timezone.utc)\n",
    "ts = int(date_utc.timestamp())\n",
    "print(f'timestamp: {ts}')"
   ]
  },
  {
   "cell_type": "code",
   "execution_count": null,
   "id": "b40c5979",
   "metadata": {
    "papermill": {
     "duration": 0.003552,
     "end_time": "2025-06-24T13:27:10.155485",
     "exception": false,
     "start_time": "2025-06-24T13:27:10.151933",
     "status": "completed"
    },
    "tags": []
   },
   "outputs": [],
   "source": []
  },
  {
   "cell_type": "code",
   "execution_count": null,
   "id": "7c1d84d1",
   "metadata": {
    "papermill": {
     "duration": 0.010009,
     "end_time": "2025-06-24T13:27:10.168865",
     "exception": false,
     "start_time": "2025-06-24T13:27:10.158856",
     "status": "completed"
    },
    "tags": []
   },
   "outputs": [],
   "source": []
  },
  {
   "cell_type": "code",
   "execution_count": null,
   "id": "4672c6c5",
   "metadata": {
    "papermill": {
     "duration": 0.003426,
     "end_time": "2025-06-24T13:27:10.176073",
     "exception": false,
     "start_time": "2025-06-24T13:27:10.172647",
     "status": "completed"
    },
    "tags": []
   },
   "outputs": [],
   "source": []
  }
 ],
 "metadata": {
  "kernelspec": {
   "display_name": "250624-meetup-python-papermill",
   "language": "python",
   "name": "python3"
  },
  "language_info": {
   "codemirror_mode": {
    "name": "ipython",
    "version": 3
   },
   "file_extension": ".py",
   "mimetype": "text/x-python",
   "name": "python",
   "nbconvert_exporter": "python",
   "pygments_lexer": "ipython3",
   "version": "3.9.21"
  },
  "papermill": {
   "default_parameters": {},
   "duration": 1.669004,
   "end_time": "2025-06-24T13:27:10.499805",
   "environment_variables": {},
   "exception": null,
   "input_path": "date_print.ipynb",
   "output_path": "output2.ipynb",
   "parameters": {
    "month": 12,
    "year": 2025
   },
   "start_time": "2025-06-24T13:27:08.830801",
   "version": "2.6.0"
  }
 },
 "nbformat": 4,
 "nbformat_minor": 5
}