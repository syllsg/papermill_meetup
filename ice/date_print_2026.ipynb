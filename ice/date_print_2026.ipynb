{
 "cells": [
  {
   "cell_type": "code",
   "execution_count": 1,
   "id": "cac34e76",
   "metadata": {
    "execution": {
     "iopub.execute_input": "2025-06-24T13:39:26.267145Z",
     "iopub.status.busy": "2025-06-24T13:39:26.266846Z",
     "iopub.status.idle": "2025-06-24T13:39:26.276343Z",
     "shell.execute_reply": "2025-06-24T13:39:26.275384Z"
    },
    "papermill": {
     "duration": 0.014641,
     "end_time": "2025-06-24T13:39:26.277828",
     "exception": false,
     "start_time": "2025-06-24T13:39:26.263187",
     "status": "completed"
    },
    "tags": []
   },
   "outputs": [],
   "source": [
    "from datetime import datetime, timezone"
   ]
  },
  {
   "cell_type": "code",
   "execution_count": 2,
   "id": "cd23e7af",
   "metadata": {
    "execution": {
     "iopub.execute_input": "2025-06-24T13:39:26.282968Z",
     "iopub.status.busy": "2025-06-24T13:39:26.282693Z",
     "iopub.status.idle": "2025-06-24T13:39:26.286810Z",
     "shell.execute_reply": "2025-06-24T13:39:26.285948Z"
    },
    "papermill": {
     "duration": 0.008256,
     "end_time": "2025-06-24T13:39:26.288251",
     "exception": false,
     "start_time": "2025-06-24T13:39:26.279995",
     "status": "completed"
    },
    "tags": [
     "parameters"
    ]
   },
   "outputs": [],
   "source": [
    "# input date\n",
    "\n",
    "year = 2023 \n",
    "month = 10\n",
    "day = 15"
   ]
  },
  {
   "cell_type": "code",
   "execution_count": 3,
   "id": "eac06ff2",
   "metadata": {
    "execution": {
     "iopub.execute_input": "2025-06-24T13:39:26.294702Z",
     "iopub.status.busy": "2025-06-24T13:39:26.294274Z",
     "iopub.status.idle": "2025-06-24T13:39:26.299837Z",
     "shell.execute_reply": "2025-06-24T13:39:26.298936Z"
    },
    "papermill": {
     "duration": 0.014095,
     "end_time": "2025-06-24T13:39:26.304526",
     "exception": false,
     "start_time": "2025-06-24T13:39:26.290431",
     "status": "completed"
    },
    "tags": [
     "injected-parameters"
    ]
   },
   "outputs": [],
   "source": [
    "# Parameters\n",
    "year = 2026\n"
   ]
  },
  {
   "cell_type": "code",
   "execution_count": 4,
   "id": "c79693a7",
   "metadata": {
    "execution": {
     "iopub.execute_input": "2025-06-24T13:39:26.311055Z",
     "iopub.status.busy": "2025-06-24T13:39:26.310665Z",
     "iopub.status.idle": "2025-06-24T13:39:26.320351Z",
     "shell.execute_reply": "2025-06-24T13:39:26.318432Z"
    },
    "papermill": {
     "duration": 0.015255,
     "end_time": "2025-06-24T13:39:26.322618",
     "exception": false,
     "start_time": "2025-06-24T13:39:26.307363",
     "status": "completed"
    },
    "tags": []
   },
   "outputs": [
    {
     "name": "stdout",
     "output_type": "stream",
     "text": [
      "date: 2026-10-15\n",
      "timestamp: 1792022400\n"
     ]
    }
   ],
   "source": [
    "# use the parameters to do something\n",
    "\n",
    "date_str = f\"{year:d}-{month:02d}-{day:02d}\"\n",
    "print(f'date: {date_str}')\n",
    "date = datetime.strptime(date_str, \"%Y-%m-%d\")\n",
    "date_utc = date.replace(tzinfo=timezone.utc)\n",
    "ts = int(date_utc.timestamp())\n",
    "print(f'timestamp: {ts}')"
   ]
  },
  {
   "cell_type": "code",
   "execution_count": null,
   "id": "b40c5979",
   "metadata": {
    "papermill": {
     "duration": 0.003316,
     "end_time": "2025-06-24T13:39:26.329479",
     "exception": false,
     "start_time": "2025-06-24T13:39:26.326163",
     "status": "completed"
    },
    "tags": []
   },
   "outputs": [],
   "source": []
  },
  {
   "cell_type": "code",
   "execution_count": null,
   "id": "7c1d84d1",
   "metadata": {
    "papermill": {
     "duration": 0.003105,
     "end_time": "2025-06-24T13:39:26.335968",
     "exception": false,
     "start_time": "2025-06-24T13:39:26.332863",
     "status": "completed"
    },
    "tags": []
   },
   "outputs": [],
   "source": []
  },
  {
   "cell_type": "code",
   "execution_count": null,
   "id": "4672c6c5",
   "metadata": {
    "papermill": {
     "duration": 0.003637,
     "end_time": "2025-06-24T13:39:26.342856",
     "exception": false,
     "start_time": "2025-06-24T13:39:26.339219",
     "status": "completed"
    },
    "tags": []
   },
   "outputs": [],
   "source": []
  }
 ],
 "metadata": {
  "kernelspec": {
   "display_name": "250624-meetup-python-papermill",
   "language": "python",
   "name": "python3"
  },
  "language_info": {
   "codemirror_mode": {
    "name": "ipython",
    "version": 3
   },
   "file_extension": ".py",
   "mimetype": "text/x-python",
   "name": "python",
   "nbconvert_exporter": "python",
   "pygments_lexer": "ipython3",
   "version": "3.9.21"
  },
  "papermill": {
   "default_parameters": {},
   "duration": 1.347958,
   "end_time": "2025-06-24T13:39:26.666487",
   "environment_variables": {},
   "exception": null,
   "input_path": "date_print.ipynb",
   "output_path": "date_print_2026.ipynb",
   "parameters": {
    "year": 2026
   },
   "start_time": "2025-06-24T13:39:25.318529",
   "version": "2.6.0"
  }
 },
 "nbformat": 4,
 "nbformat_minor": 5
}