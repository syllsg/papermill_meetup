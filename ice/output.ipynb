{
 "cells": [
  {
   "cell_type": "code",
   "execution_count": 1,
   "id": "cac34e76",
   "metadata": {
    "execution": {
     "iopub.execute_input": "2025-06-24T13:22:17.828830Z",
     "iopub.status.busy": "2025-06-24T13:22:17.828519Z",
     "iopub.status.idle": "2025-06-24T13:22:17.840744Z",
     "shell.execute_reply": "2025-06-24T13:22:17.839513Z"
    },
    "papermill": {
     "duration": 0.019214,
     "end_time": "2025-06-24T13:22:17.843109",
     "exception": false,
     "start_time": "2025-06-24T13:22:17.823895",
     "status": "completed"
    },
    "tags": []
   },
   "outputs": [],
   "source": [
    "from datetime import datetime, timezone"
   ]
  },
  {
   "cell_type": "code",
   "execution_count": 2,
   "id": "cd23e7af",
   "metadata": {
    "execution": {
     "iopub.execute_input": "2025-06-24T13:22:17.854617Z",
     "iopub.status.busy": "2025-06-24T13:22:17.854203Z",
     "iopub.status.idle": "2025-06-24T13:22:17.864065Z",
     "shell.execute_reply": "2025-06-24T13:22:17.862388Z"
    },
    "papermill": {
     "duration": 0.016555,
     "end_time": "2025-06-24T13:22:17.866260",
     "exception": false,
     "start_time": "2025-06-24T13:22:17.849705",
     "status": "completed"
    },
    "tags": [
     "parameters"
    ]
   },
   "outputs": [],
   "source": [
    "# input date\n",
    "\n",
    "year = 2023 \n",
    "month = 10\n",
    "day = 15"
   ]
  },
  {
   "cell_type": "code",
   "execution_count": 3,
   "id": "d0c57476",
   "metadata": {
    "execution": {
     "iopub.execute_input": "2025-06-24T13:22:17.877538Z",
     "iopub.status.busy": "2025-06-24T13:22:17.876942Z",
     "iopub.status.idle": "2025-06-24T13:22:17.882045Z",
     "shell.execute_reply": "2025-06-24T13:22:17.880921Z"
    },
    "papermill": {
     "duration": 0.012501,
     "end_time": "2025-06-24T13:22:17.884683",
     "exception": false,
     "start_time": "2025-06-24T13:22:17.872182",
     "status": "completed"
    },
    "tags": [
     "injected-parameters"
    ]
   },
   "outputs": [],
   "source": [
    "# Parameters\n",
    "year = 2025\n"
   ]
  },
  {
   "cell_type": "code",
   "execution_count": 4,
   "id": "c79693a7",
   "metadata": {
    "execution": {
     "iopub.execute_input": "2025-06-24T13:22:17.891191Z",
     "iopub.status.busy": "2025-06-24T13:22:17.890471Z",
     "iopub.status.idle": "2025-06-24T13:22:17.898274Z",
     "shell.execute_reply": "2025-06-24T13:22:17.897421Z"
    },
    "papermill": {
     "duration": 0.012898,
     "end_time": "2025-06-24T13:22:17.900471",
     "exception": false,
     "start_time": "2025-06-24T13:22:17.887573",
     "status": "completed"
    },
    "tags": []
   },
   "outputs": [
    {
     "name": "stdout",
     "output_type": "stream",
     "text": [
      "date: 2025-10-15\n",
      "timestamp: 1760486400\n"
     ]
    }
   ],
   "source": [
    "# use the parameters to do something\n",
    "\n",
    "date_str = f\"{year:d}-{month:02d}-{day:02d}\"\n",
    "print(f'date: {date_str}')\n",
    "date = datetime.strptime(date_str, \"%Y-%m-%d\")\n",
    "date_utc = date.replace(tzinfo=timezone.utc)\n",
    "ts = int(date_utc.timestamp())\n",
    "print(f'timestamp: {ts}')"
   ]
  },
  {
   "cell_type": "code",
   "execution_count": null,
   "id": "b40c5979",
   "metadata": {
    "papermill": {
     "duration": 0.004535,
     "end_time": "2025-06-24T13:22:17.908089",
     "exception": false,
     "start_time": "2025-06-24T13:22:17.903554",
     "status": "completed"
    },
    "tags": []
   },
   "outputs": [],
   "source": []
  },
  {
   "cell_type": "code",
   "execution_count": null,
   "id": "7c1d84d1",
   "metadata": {
    "papermill": {
     "duration": 0.00316,
     "end_time": "2025-06-24T13:22:17.914433",
     "exception": false,
     "start_time": "2025-06-24T13:22:17.911273",
     "status": "completed"
    },
    "tags": []
   },
   "outputs": [],
   "source": []
  },
  {
   "cell_type": "code",
   "execution_count": null,
   "id": "4672c6c5",
   "metadata": {
    "papermill": {
     "duration": 0.003049,
     "end_time": "2025-06-24T13:22:17.920446",
     "exception": false,
     "start_time": "2025-06-24T13:22:17.917397",
     "status": "completed"
    },
    "tags": []
   },
   "outputs": [],
   "source": []
  }
 ],
 "metadata": {
  "kernelspec": {
   "display_name": "250624-meetup-python-papermill",
   "language": "python",
   "name": "python3"
  },
  "language_info": {
   "codemirror_mode": {
    "name": "ipython",
    "version": 3
   },
   "file_extension": ".py",
   "mimetype": "text/x-python",
   "name": "python",
   "nbconvert_exporter": "python",
   "pygments_lexer": "ipython3",
   "version": "3.9.21"
  },
  "papermill": {
   "default_parameters": {},
   "duration": 1.254549,
   "end_time": "2025-06-24T13:22:18.143770",
   "environment_variables": {},
   "exception": null,
   "input_path": "date_print.ipynb",
   "output_path": "output.ipynb",
   "parameters": {
    "year": 2025
   },
   "start_time": "2025-06-24T13:22:16.889221",
   "version": "2.6.0"
  }
 },
 "nbformat": 4,
 "nbformat_minor": 5
}