{
 "cells": [
  {
   "cell_type": "code",
   "execution_count": 1,
   "id": "cac34e76",
   "metadata": {
    "execution": {
     "iopub.execute_input": "2025-06-24T13:52:10.153460Z",
     "iopub.status.busy": "2025-06-24T13:52:10.153132Z",
     "iopub.status.idle": "2025-06-24T13:52:10.162156Z",
     "shell.execute_reply": "2025-06-24T13:52:10.161378Z"
    },
    "papermill": {
     "duration": 0.015178,
     "end_time": "2025-06-24T13:52:10.163624",
     "exception": false,
     "start_time": "2025-06-24T13:52:10.148446",
     "status": "completed"
    },
    "tags": []
   },
   "outputs": [],
   "source": [
    "from datetime import datetime, timezone"
   ]
  },
  {
   "cell_type": "code",
   "execution_count": 2,
   "id": "cd23e7af",
   "metadata": {
    "execution": {
     "iopub.execute_input": "2025-06-24T13:52:10.171604Z",
     "iopub.status.busy": "2025-06-24T13:52:10.170838Z",
     "iopub.status.idle": "2025-06-24T13:52:10.175162Z",
     "shell.execute_reply": "2025-06-24T13:52:10.174453Z"
    },
    "papermill": {
     "duration": 0.01012,
     "end_time": "2025-06-24T13:52:10.176469",
     "exception": false,
     "start_time": "2025-06-24T13:52:10.166349",
     "status": "completed"
    },
    "tags": [
     "parameters"
    ]
   },
   "outputs": [],
   "source": [
    "# input date\n",
    "\n",
    "year = 2023 \n",
    "month = 10\n",
    "day = 15"
   ]
  },
  {
   "cell_type": "code",
   "execution_count": 3,
   "id": "69b0d5a9",
   "metadata": {
    "execution": {
     "iopub.execute_input": "2025-06-24T13:52:10.181616Z",
     "iopub.status.busy": "2025-06-24T13:52:10.181226Z",
     "iopub.status.idle": "2025-06-24T13:52:10.188668Z",
     "shell.execute_reply": "2025-06-24T13:52:10.184895Z"
    },
    "papermill": {
     "duration": 0.012183,
     "end_time": "2025-06-24T13:52:10.190817",
     "exception": false,
     "start_time": "2025-06-24T13:52:10.178634",
     "status": "completed"
    },
    "tags": [
     "injected-parameters"
    ]
   },
   "outputs": [],
   "source": [
    "# Parameters\n",
    "year = 2022\n",
    "month = 12\n"
   ]
  },
  {
   "cell_type": "code",
   "execution_count": 4,
   "id": "c79693a7",
   "metadata": {
    "execution": {
     "iopub.execute_input": "2025-06-24T13:52:10.201165Z",
     "iopub.status.busy": "2025-06-24T13:52:10.199877Z",
     "iopub.status.idle": "2025-06-24T13:52:10.209699Z",
     "shell.execute_reply": "2025-06-24T13:52:10.208162Z"
    },
    "papermill": {
     "duration": 0.019136,
     "end_time": "2025-06-24T13:52:10.212950",
     "exception": false,
     "start_time": "2025-06-24T13:52:10.193814",
     "status": "completed"
    },
    "tags": []
   },
   "outputs": [
    {
     "name": "stdout",
     "output_type": "stream",
     "text": [
      "date: 2022-12-15\n",
      "timestamp: 1671062400\n"
     ]
    }
   ],
   "source": [
    "# use the parameters to do something\n",
    "\n",
    "date_str = f\"{year:d}-{month:02d}-{day:02d}\"\n",
    "print(f'date: {date_str}')\n",
    "date = datetime.strptime(date_str, \"%Y-%m-%d\")\n",
    "date_utc = date.replace(tzinfo=timezone.utc)\n",
    "ts = int(date_utc.timestamp())\n",
    "print(f'timestamp: {ts}')"
   ]
  },
  {
   "cell_type": "code",
   "execution_count": null,
   "id": "b40c5979",
   "metadata": {
    "papermill": {
     "duration": 0.003535,
     "end_time": "2025-06-24T13:52:10.220625",
     "exception": false,
     "start_time": "2025-06-24T13:52:10.217090",
     "status": "completed"
    },
    "tags": []
   },
   "outputs": [],
   "source": []
  },
  {
   "cell_type": "code",
   "execution_count": null,
   "id": "7c1d84d1",
   "metadata": {
    "papermill": {
     "duration": 0.002651,
     "end_time": "2025-06-24T13:52:10.226776",
     "exception": false,
     "start_time": "2025-06-24T13:52:10.224125",
     "status": "completed"
    },
    "tags": []
   },
   "outputs": [],
   "source": []
  },
  {
   "cell_type": "code",
   "execution_count": null,
   "id": "4672c6c5",
   "metadata": {
    "papermill": {
     "duration": 0.004184,
     "end_time": "2025-06-24T13:52:10.234524",
     "exception": false,
     "start_time": "2025-06-24T13:52:10.230340",
     "status": "completed"
    },
    "tags": []
   },
   "outputs": [],
   "source": []
  }
 ],
 "metadata": {
  "kernelspec": {
   "display_name": "250624-meetup-python-papermill",
   "language": "python",
   "name": "python3"
  },
  "language_info": {
   "codemirror_mode": {
    "name": "ipython",
    "version": 3
   },
   "file_extension": ".py",
   "mimetype": "text/x-python",
   "name": "python",
   "nbconvert_exporter": "python",
   "pygments_lexer": "ipython3",
   "version": "3.9.21"
  },
  "papermill": {
   "default_parameters": {},
   "duration": 1.385323,
   "end_time": "2025-06-24T13:52:10.557146",
   "environment_variables": {},
   "exception": null,
   "input_path": "date_print.ipynb",
   "output_path": "date_print_2022_12.ipynb",
   "parameters": {
    "month": 12,
    "year": 2022
   },
   "start_time": "2025-06-24T13:52:09.171823",
   "version": "2.6.0"
  }
 },
 "nbformat": 4,
 "nbformat_minor": 5
}