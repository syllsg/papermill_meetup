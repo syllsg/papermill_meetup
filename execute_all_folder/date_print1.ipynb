{
 "cells": [
  {
   "cell_type": "code",
   "execution_count": 1,
   "id": "cac34e76",
   "metadata": {
    "execution": {
     "iopub.execute_input": "2025-06-27T18:27:39.585508Z",
     "iopub.status.busy": "2025-06-27T18:27:39.584851Z",
     "iopub.status.idle": "2025-06-27T18:27:39.599935Z",
     "shell.execute_reply": "2025-06-27T18:27:39.598905Z"
    },
    "papermill": {
     "duration": 0.023257,
     "end_time": "2025-06-27T18:27:39.601923",
     "exception": false,
     "start_time": "2025-06-27T18:27:39.578666",
     "status": "completed"
    },
    "tags": []
   },
   "outputs": [],
   "source": [
    "from datetime import datetime"
   ]
  },
  {
   "cell_type": "code",
   "execution_count": 2,
   "id": "cd23e7af",
   "metadata": {
    "execution": {
     "iopub.execute_input": "2025-06-27T18:27:39.615067Z",
     "iopub.status.busy": "2025-06-27T18:27:39.613975Z",
     "iopub.status.idle": "2025-06-27T18:27:39.621113Z",
     "shell.execute_reply": "2025-06-27T18:27:39.619606Z"
    },
    "papermill": {
     "duration": 0.016143,
     "end_time": "2025-06-27T18:27:39.624314",
     "exception": false,
     "start_time": "2025-06-27T18:27:39.608171",
     "status": "completed"
    },
    "tags": [
     "parameters"
    ]
   },
   "outputs": [],
   "source": [
    "# input date\n",
    "\n",
    "year = 2023 \n",
    "month = 10\n",
    "day = 15"
   ]
  },
  {
   "cell_type": "code",
   "execution_count": 3,
   "id": "c79693a7",
   "metadata": {
    "execution": {
     "iopub.execute_input": "2025-06-27T18:27:39.636954Z",
     "iopub.status.busy": "2025-06-27T18:27:39.634741Z",
     "iopub.status.idle": "2025-06-27T18:27:39.647493Z",
     "shell.execute_reply": "2025-06-27T18:27:39.645443Z"
    },
    "papermill": {
     "duration": 0.023906,
     "end_time": "2025-06-27T18:27:39.652403",
     "exception": false,
     "start_time": "2025-06-27T18:27:39.628497",
     "status": "completed"
    },
    "tags": []
   },
   "outputs": [
    {
     "name": "stdout",
     "output_type": "stream",
     "text": [
      "date: 2023-10-15\n"
     ]
    }
   ],
   "source": [
    "# use the parameters to do something\n",
    "\n",
    "date_str = f\"{year:d}-{month:02d}-{day:02d}\"\n",
    "print(f'date: {date_str}')\n"
   ]
  },
  {
   "cell_type": "code",
   "execution_count": null,
   "id": "b40c5979",
   "metadata": {
    "papermill": {
     "duration": 0.003402,
     "end_time": "2025-06-27T18:27:39.663813",
     "exception": false,
     "start_time": "2025-06-27T18:27:39.660411",
     "status": "completed"
    },
    "tags": []
   },
   "outputs": [],
   "source": []
  },
  {
   "cell_type": "code",
   "execution_count": null,
   "id": "7c1d84d1",
   "metadata": {
    "papermill": {
     "duration": 0.003887,
     "end_time": "2025-06-27T18:27:39.672234",
     "exception": false,
     "start_time": "2025-06-27T18:27:39.668347",
     "status": "completed"
    },
    "tags": []
   },
   "outputs": [],
   "source": []
  },
  {
   "cell_type": "code",
   "execution_count": null,
   "id": "be34f83c",
   "metadata": {
    "papermill": {
     "duration": 0.003626,
     "end_time": "2025-06-27T18:27:39.680451",
     "exception": false,
     "start_time": "2025-06-27T18:27:39.676825",
     "status": "completed"
    },
    "tags": []
   },
   "outputs": [],
   "source": []
  },
  {
   "cell_type": "code",
   "execution_count": null,
   "id": "4672c6c5",
   "metadata": {
    "papermill": {
     "duration": 0.003882,
     "end_time": "2025-06-27T18:27:39.688840",
     "exception": false,
     "start_time": "2025-06-27T18:27:39.684958",
     "status": "completed"
    },
    "tags": []
   },
   "outputs": [],
   "source": []
  }
 ],
 "metadata": {
  "kernelspec": {
   "display_name": "250624-meetup-python-papermill",
   "language": "python",
   "name": "python3"
  },
  "language_info": {
   "codemirror_mode": {
    "name": "ipython",
    "version": 3
   },
   "file_extension": ".py",
   "mimetype": "text/x-python",
   "name": "python",
   "nbconvert_exporter": "python",
   "pygments_lexer": "ipython3",
   "version": "3.9.21"
  },
  "papermill": {
   "default_parameters": {},
   "duration": 3.183668,
   "end_time": "2025-06-27T18:27:40.119308",
   "environment_variables": {},
   "exception": null,
   "input_path": "execute_all_folder/date_print1.ipynb",
   "output_path": "execute_all_folder/date_print1.ipynb",
   "parameters": {
    "month": 7,
    "year": 2026
   },
   "start_time": "2025-06-27T18:27:36.935640",
   "version": "2.6.0"
  }
 },
 "nbformat": 4,
 "nbformat_minor": 5
}