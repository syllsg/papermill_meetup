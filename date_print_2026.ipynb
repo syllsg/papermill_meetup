{
 "cells": [
  {
   "cell_type": "code",
   "execution_count": 1,
   "id": "cac34e76",
   "metadata": {
    "execution": {
     "iopub.execute_input": "2025-06-26T18:46:49.604499Z",
     "iopub.status.busy": "2025-06-26T18:46:49.603833Z",
     "iopub.status.idle": "2025-06-26T18:46:49.612303Z",
     "shell.execute_reply": "2025-06-26T18:46:49.611659Z"
    },
    "papermill": {
     "duration": 0.013409,
     "end_time": "2025-06-26T18:46:49.613995",
     "exception": false,
     "start_time": "2025-06-26T18:46:49.600586",
     "status": "completed"
    },
    "tags": []
   },
   "outputs": [],
   "source": [
    "from datetime import datetime"
   ]
  },
  {
   "cell_type": "code",
   "execution_count": 2,
   "id": "cd23e7af",
   "metadata": {
    "execution": {
     "iopub.execute_input": "2025-06-26T18:46:49.621069Z",
     "iopub.status.busy": "2025-06-26T18:46:49.620210Z",
     "iopub.status.idle": "2025-06-26T18:46:49.630363Z",
     "shell.execute_reply": "2025-06-26T18:46:49.625939Z"
    },
    "papermill": {
     "duration": 0.016282,
     "end_time": "2025-06-26T18:46:49.633228",
     "exception": false,
     "start_time": "2025-06-26T18:46:49.616946",
     "status": "completed"
    },
    "tags": [
     "parameters"
    ]
   },
   "outputs": [],
   "source": [
    "# input date\n",
    "\n",
    "year = 2023 \n",
    "month = 10\n",
    "day = 15"
   ]
  },
  {
   "cell_type": "code",
   "execution_count": 3,
   "id": "8ab50ddd",
   "metadata": {
    "execution": {
     "iopub.execute_input": "2025-06-26T18:46:49.646785Z",
     "iopub.status.busy": "2025-06-26T18:46:49.645835Z",
     "iopub.status.idle": "2025-06-26T18:46:49.651358Z",
     "shell.execute_reply": "2025-06-26T18:46:49.649439Z"
    },
    "papermill": {
     "duration": 0.012985,
     "end_time": "2025-06-26T18:46:49.654839",
     "exception": false,
     "start_time": "2025-06-26T18:46:49.641854",
     "status": "completed"
    },
    "tags": [
     "injected-parameters"
    ]
   },
   "outputs": [],
   "source": [
    "# Parameters\n",
    "year = 2026\n"
   ]
  },
  {
   "cell_type": "code",
   "execution_count": 4,
   "id": "c79693a7",
   "metadata": {
    "execution": {
     "iopub.execute_input": "2025-06-26T18:46:49.666429Z",
     "iopub.status.busy": "2025-06-26T18:46:49.665956Z",
     "iopub.status.idle": "2025-06-26T18:46:49.671763Z",
     "shell.execute_reply": "2025-06-26T18:46:49.670850Z"
    },
    "papermill": {
     "duration": 0.013538,
     "end_time": "2025-06-26T18:46:49.673449",
     "exception": false,
     "start_time": "2025-06-26T18:46:49.659911",
     "status": "completed"
    },
    "tags": []
   },
   "outputs": [
    {
     "name": "stdout",
     "output_type": "stream",
     "text": [
      "date: 2026-10-15\n"
     ]
    }
   ],
   "source": [
    "# use the parameters to do something\n",
    "\n",
    "date_str = f\"{year:d}-{month:02d}-{day:02d}\"\n",
    "print(f'date: {date_str}')\n"
   ]
  },
  {
   "cell_type": "code",
   "execution_count": null,
   "id": "b40c5979",
   "metadata": {
    "papermill": {
     "duration": 0.00191,
     "end_time": "2025-06-26T18:46:49.677431",
     "exception": false,
     "start_time": "2025-06-26T18:46:49.675521",
     "status": "completed"
    },
    "tags": []
   },
   "outputs": [],
   "source": []
  },
  {
   "cell_type": "code",
   "execution_count": null,
   "id": "7c1d84d1",
   "metadata": {
    "papermill": {
     "duration": 0.002795,
     "end_time": "2025-06-26T18:46:49.682400",
     "exception": false,
     "start_time": "2025-06-26T18:46:49.679605",
     "status": "completed"
    },
    "tags": []
   },
   "outputs": [],
   "source": []
  },
  {
   "cell_type": "code",
   "execution_count": null,
   "id": "4672c6c5",
   "metadata": {
    "papermill": {
     "duration": 0.001736,
     "end_time": "2025-06-26T18:46:49.686044",
     "exception": false,
     "start_time": "2025-06-26T18:46:49.684308",
     "status": "completed"
    },
    "tags": []
   },
   "outputs": [],
   "source": []
  }
 ],
 "metadata": {
  "kernelspec": {
   "display_name": "250624-meetup-python-papermill",
   "language": "python",
   "name": "python3"
  },
  "language_info": {
   "codemirror_mode": {
    "name": "ipython",
    "version": 3
   },
   "file_extension": ".py",
   "mimetype": "text/x-python",
   "name": "python",
   "nbconvert_exporter": "python",
   "pygments_lexer": "ipython3",
   "version": "3.9.21"
  },
  "papermill": {
   "default_parameters": {},
   "duration": 1.335929,
   "end_time": "2025-06-26T18:46:49.906478",
   "environment_variables": {},
   "exception": null,
   "input_path": "date_print.ipynb",
   "output_path": "date_print_2026.ipynb",
   "parameters": {
    "year": 2026
   },
   "start_time": "2025-06-26T18:46:48.570549",
   "version": "2.6.0"
  }
 },
 "nbformat": 4,
 "nbformat_minor": 5
}