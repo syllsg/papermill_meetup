{
 "cells": [
  {
   "cell_type": "code",
   "execution_count": 1,
   "id": "cac34e76",
   "metadata": {
    "execution": {
     "iopub.execute_input": "2025-06-24T17:19:15.133159Z",
     "iopub.status.busy": "2025-06-24T17:19:15.132830Z",
     "iopub.status.idle": "2025-06-24T17:19:15.141312Z",
     "shell.execute_reply": "2025-06-24T17:19:15.140442Z"
    },
    "papermill": {
     "duration": 0.014072,
     "end_time": "2025-06-24T17:19:15.143125",
     "exception": false,
     "start_time": "2025-06-24T17:19:15.129053",
     "status": "completed"
    },
    "tags": []
   },
   "outputs": [],
   "source": [
    "from datetime import datetime"
   ]
  },
  {
   "cell_type": "code",
   "execution_count": 2,
   "id": "cd23e7af",
   "metadata": {
    "execution": {
     "iopub.execute_input": "2025-06-24T17:19:15.150328Z",
     "iopub.status.busy": "2025-06-24T17:19:15.149898Z",
     "iopub.status.idle": "2025-06-24T17:19:15.160590Z",
     "shell.execute_reply": "2025-06-24T17:19:15.158347Z"
    },
    "papermill": {
     "duration": 0.01844,
     "end_time": "2025-06-24T17:19:15.163838",
     "exception": false,
     "start_time": "2025-06-24T17:19:15.145398",
     "status": "completed"
    },
    "tags": [
     "parameters"
    ]
   },
   "outputs": [],
   "source": [
    "# input date\n",
    "\n",
    "year = 2023 \n",
    "month = 10\n",
    "day = 15"
   ]
  },
  {
   "cell_type": "code",
   "execution_count": 3,
   "id": "c858ae52",
   "metadata": {
    "execution": {
     "iopub.execute_input": "2025-06-24T17:19:15.176035Z",
     "iopub.status.busy": "2025-06-24T17:19:15.175497Z",
     "iopub.status.idle": "2025-06-24T17:19:15.180586Z",
     "shell.execute_reply": "2025-06-24T17:19:15.179221Z"
    },
    "papermill": {
     "duration": 0.011796,
     "end_time": "2025-06-24T17:19:15.182493",
     "exception": false,
     "start_time": "2025-06-24T17:19:15.170697",
     "status": "completed"
    },
    "tags": [
     "injected-parameters"
    ]
   },
   "outputs": [],
   "source": [
    "# Parameters\n",
    "year = 2026\n"
   ]
  },
  {
   "cell_type": "code",
   "execution_count": 4,
   "id": "c79693a7",
   "metadata": {
    "execution": {
     "iopub.execute_input": "2025-06-24T17:19:15.186914Z",
     "iopub.status.busy": "2025-06-24T17:19:15.186394Z",
     "iopub.status.idle": "2025-06-24T17:19:15.191370Z",
     "shell.execute_reply": "2025-06-24T17:19:15.190255Z"
    },
    "papermill": {
     "duration": 0.00874,
     "end_time": "2025-06-24T17:19:15.192913",
     "exception": false,
     "start_time": "2025-06-24T17:19:15.184173",
     "status": "completed"
    },
    "tags": []
   },
   "outputs": [
    {
     "name": "stdout",
     "output_type": "stream",
     "text": [
      "date: 2026-10-15\n"
     ]
    }
   ],
   "source": [
    "# use the parameters to do something\n",
    "\n",
    "date_str = f\"{year:d}-{month:02d}-{day:02d}\"\n",
    "print(f'date: {date_str}')\n"
   ]
  },
  {
   "cell_type": "code",
   "execution_count": null,
   "id": "b40c5979",
   "metadata": {
    "papermill": {
     "duration": 0.001551,
     "end_time": "2025-06-24T17:19:15.196824",
     "exception": false,
     "start_time": "2025-06-24T17:19:15.195273",
     "status": "completed"
    },
    "tags": []
   },
   "outputs": [],
   "source": []
  },
  {
   "cell_type": "code",
   "execution_count": null,
   "id": "7c1d84d1",
   "metadata": {
    "papermill": {
     "duration": 0.001522,
     "end_time": "2025-06-24T17:19:15.199969",
     "exception": false,
     "start_time": "2025-06-24T17:19:15.198447",
     "status": "completed"
    },
    "tags": []
   },
   "outputs": [],
   "source": []
  },
  {
   "cell_type": "code",
   "execution_count": null,
   "id": "4672c6c5",
   "metadata": {
    "papermill": {
     "duration": 0.001498,
     "end_time": "2025-06-24T17:19:15.202863",
     "exception": false,
     "start_time": "2025-06-24T17:19:15.201365",
     "status": "completed"
    },
    "tags": []
   },
   "outputs": [],
   "source": []
  }
 ],
 "metadata": {
  "kernelspec": {
   "display_name": "250624-meetup-python-papermill",
   "language": "python",
   "name": "python3"
  },
  "language_info": {
   "codemirror_mode": {
    "name": "ipython",
    "version": 3
   },
   "file_extension": ".py",
   "mimetype": "text/x-python",
   "name": "python",
   "nbconvert_exporter": "python",
   "pygments_lexer": "ipython3",
   "version": "3.9.21"
  },
  "papermill": {
   "default_parameters": {},
   "duration": 1.251313,
   "end_time": "2025-06-24T17:19:15.425159",
   "environment_variables": {},
   "exception": null,
   "input_path": "date_print.ipynb",
   "output_path": "date_print_2026.ipynb",
   "parameters": {
    "year": 2026
   },
   "start_time": "2025-06-24T17:19:14.173846",
   "version": "2.6.0"
  }
 },
 "nbformat": 4,
 "nbformat_minor": 5
}